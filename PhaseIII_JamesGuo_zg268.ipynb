{
 "cells": [
  {
   "cell_type": "markdown",
   "id": "6e769d92",
   "metadata": {},
   "source": [
    "#  Salaries in Big Techs"
   ]
  },
  {
   "cell_type": "markdown",
   "id": "31036b88",
   "metadata": {},
   "source": [
    "## Phase III: Preregistration of analyses\n",
    "Author: James Guo (zg268) <br> Date : 12/07/2021"
   ]
  },
  {
   "cell_type": "markdown",
   "id": "fe7b3933",
   "metadata": {},
   "source": [
    "### Preregistration statement"
   ]
  },
  {
   "cell_type": "markdown",
   "id": "a6f65f26",
   "metadata": {},
   "source": [
    "#### General Plans"
   ]
  },
  {
   "cell_type": "markdown",
   "id": "a6e67463",
   "metadata": {},
   "source": [
    "Based on the result of my exploratory data analysis (EDA) in Phase II, I discovered potential relationships between [`yearsofexperience`, `yearsatcompany`, `basesalary`, `bonus`] and `totalyearlycompensation`, and between [`gender`, `masters_degree`, `bachelors_degree`, `doctorate_degree`, `highschool`, `some_college`, `race_asian`, `race_white`, `race_two_or_more`, `race_black`, `race_hispanic`]. <br><br>\n",
    "\n",
    "- Because [`yearsofexperience`, `yearsatcompany`, `basesalary`, `bonus`] are non-categorical variables, so I plan to build a multiple linear regression model based on [`yearsofexperience`, `yearsatcompany`, `basesalary`, `bonus`] as predictor variables and `totalyearlycompensation` as the response variable. <br><br>\n",
    "\n",
    "**Expected Outcome:** I plan to work out an equation revealing the relationship between [`yearsofexperience`, `yearsatcompany`, `basesalary`, `bonus`] and `totalyearlycompensation`. People can use their numbers in real life to predict their salaries: that is, people plug in how many years they have worked in relevant careers, at a specific company, and their base salary and bonus into the equation to predict how high their salary is.<br><br>\n",
    "\n",
    "\n",
    "- I want to study the relationship between [`gender`, `masters_degree`, `bachelors_degree`, `doctorate_degree`, `highschool`, `some_college`, `race_asian`, `race_white`, `race_two_or_more`, `race_black`, `race_hispanic`] and `totalyearlycompensation` and build a multiple linear regression model where [`gender`, `masters_degree`, `bachelors_degree`, `doctorate_degree`, `highschool`, `some_college`, `race_asian`, `race_white`, `race_two_or_more`, `race_black`, `race_hispanic`] are predictor variables and `totalyearlycompensation` is the response variable to study how gender, education levels, and races contribute to yearly salaries.\n",
    "<br><br>\n",
    "\n",
    "**Expected Outcome:** I am interested in studying how [`gender`, `masters_degree`, `bachelors_degree`, `doctorate_degree`, `highschool`, `some_college`, `race_asian`, `race_white`, `race_two_or_more`, `race_black`, `race_hispanic`] contribute to `totalyearlycompensation` and obtaining a mathematical equation where people can predict their yearly by calculation. For example, for a black female who has a master's degree, how high her predicted yearly salary is?"
   ]
  },
  {
   "cell_type": "markdown",
   "id": "1ae06c86",
   "metadata": {},
   "source": [
    "### Questions for reviewers"
   ]
  },
  {
   "cell_type": "markdown",
   "id": "88cbb5c9",
   "metadata": {},
   "source": [
    "Thank you very much for reading my preregistration statement!"
   ]
  }
 ],
 "metadata": {
  "kernelspec": {
   "display_name": "Python 3",
   "language": "python",
   "name": "python3"
  },
  "language_info": {
   "codemirror_mode": {
    "name": "ipython",
    "version": 3
   },
   "file_extension": ".py",
   "mimetype": "text/x-python",
   "name": "python",
   "nbconvert_exporter": "python",
   "pygments_lexer": "ipython3",
   "version": "3.8.8"
  }
 },
 "nbformat": 4,
 "nbformat_minor": 5
}
